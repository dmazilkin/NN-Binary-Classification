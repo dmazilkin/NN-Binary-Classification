{
 "cells": [
  {
   "cell_type": "code",
   "id": "initial_id",
   "metadata": {
    "collapsed": true,
    "ExecuteTime": {
     "end_time": "2025-04-09T10:37:22.428134Z",
     "start_time": "2025-04-09T10:37:21.980680Z"
    }
   },
   "source": "import pandas as pd",
   "outputs": [],
   "execution_count": 1
  },
  {
   "metadata": {
    "ExecuteTime": {
     "end_time": "2025-04-09T10:37:22.454942Z",
     "start_time": "2025-04-09T10:37:22.436284Z"
    }
   },
   "cell_type": "code",
   "source": [
    "df = pd.read_csv('data/p1_train.csv')\n",
    "df.head()"
   ],
   "id": "7b145984f74b7c2d",
   "outputs": [
    {
     "data": {
      "text/plain": [
       "         f00       f01        f02         f03  f04       f05       f06  \\\n",
       "0  33.682563  9.025679  21.463532  242.366840    0  1.725883  6.327112   \n",
       "1  79.028477  7.151293  20.613267  231.162595    0  2.592424  7.619885   \n",
       "2  68.457491  8.392554  13.991127  159.582240    0  6.481226  8.428001   \n",
       "3  56.874305  5.597238  13.517609  237.602184    0  0.014691  6.310461   \n",
       "4  66.533369  5.477686   1.964413  263.734149    0  9.236328  9.257695   \n",
       "\n",
       "         f07  f08  f09  ...  f22  f23  f24  f25  f26  f27  f28       f29  f30  \\\n",
       "0  13.297218   73    0  ...    1    1    2    0    1    0    0  1.347214    0   \n",
       "1   4.542524   89    0  ...    0    0    0    0    0    0    0  0.518767    0   \n",
       "2  12.209266   74    0  ...    0    0    1    0    0    0    0  7.435604    1   \n",
       "3  18.454356   89    0  ...    0    1    0    1    0    0    0  0.795498    0   \n",
       "4   0.646047   68    0  ...    0    0    2    0    0    0    3  5.897388    0   \n",
       "\n",
       "   class  \n",
       "0  QqQqQ  \n",
       "1  QqQqQ  \n",
       "2  QqQqQ  \n",
       "3  QqQqQ  \n",
       "4  QqQqQ  \n",
       "\n",
       "[5 rows x 32 columns]"
      ],
      "text/html": [
       "<div>\n",
       "<style scoped>\n",
       "    .dataframe tbody tr th:only-of-type {\n",
       "        vertical-align: middle;\n",
       "    }\n",
       "\n",
       "    .dataframe tbody tr th {\n",
       "        vertical-align: top;\n",
       "    }\n",
       "\n",
       "    .dataframe thead th {\n",
       "        text-align: right;\n",
       "    }\n",
       "</style>\n",
       "<table border=\"1\" class=\"dataframe\">\n",
       "  <thead>\n",
       "    <tr style=\"text-align: right;\">\n",
       "      <th></th>\n",
       "      <th>f00</th>\n",
       "      <th>f01</th>\n",
       "      <th>f02</th>\n",
       "      <th>f03</th>\n",
       "      <th>f04</th>\n",
       "      <th>f05</th>\n",
       "      <th>f06</th>\n",
       "      <th>f07</th>\n",
       "      <th>f08</th>\n",
       "      <th>f09</th>\n",
       "      <th>...</th>\n",
       "      <th>f22</th>\n",
       "      <th>f23</th>\n",
       "      <th>f24</th>\n",
       "      <th>f25</th>\n",
       "      <th>f26</th>\n",
       "      <th>f27</th>\n",
       "      <th>f28</th>\n",
       "      <th>f29</th>\n",
       "      <th>f30</th>\n",
       "      <th>class</th>\n",
       "    </tr>\n",
       "  </thead>\n",
       "  <tbody>\n",
       "    <tr>\n",
       "      <th>0</th>\n",
       "      <td>33.682563</td>\n",
       "      <td>9.025679</td>\n",
       "      <td>21.463532</td>\n",
       "      <td>242.366840</td>\n",
       "      <td>0</td>\n",
       "      <td>1.725883</td>\n",
       "      <td>6.327112</td>\n",
       "      <td>13.297218</td>\n",
       "      <td>73</td>\n",
       "      <td>0</td>\n",
       "      <td>...</td>\n",
       "      <td>1</td>\n",
       "      <td>1</td>\n",
       "      <td>2</td>\n",
       "      <td>0</td>\n",
       "      <td>1</td>\n",
       "      <td>0</td>\n",
       "      <td>0</td>\n",
       "      <td>1.347214</td>\n",
       "      <td>0</td>\n",
       "      <td>QqQqQ</td>\n",
       "    </tr>\n",
       "    <tr>\n",
       "      <th>1</th>\n",
       "      <td>79.028477</td>\n",
       "      <td>7.151293</td>\n",
       "      <td>20.613267</td>\n",
       "      <td>231.162595</td>\n",
       "      <td>0</td>\n",
       "      <td>2.592424</td>\n",
       "      <td>7.619885</td>\n",
       "      <td>4.542524</td>\n",
       "      <td>89</td>\n",
       "      <td>0</td>\n",
       "      <td>...</td>\n",
       "      <td>0</td>\n",
       "      <td>0</td>\n",
       "      <td>0</td>\n",
       "      <td>0</td>\n",
       "      <td>0</td>\n",
       "      <td>0</td>\n",
       "      <td>0</td>\n",
       "      <td>0.518767</td>\n",
       "      <td>0</td>\n",
       "      <td>QqQqQ</td>\n",
       "    </tr>\n",
       "    <tr>\n",
       "      <th>2</th>\n",
       "      <td>68.457491</td>\n",
       "      <td>8.392554</td>\n",
       "      <td>13.991127</td>\n",
       "      <td>159.582240</td>\n",
       "      <td>0</td>\n",
       "      <td>6.481226</td>\n",
       "      <td>8.428001</td>\n",
       "      <td>12.209266</td>\n",
       "      <td>74</td>\n",
       "      <td>0</td>\n",
       "      <td>...</td>\n",
       "      <td>0</td>\n",
       "      <td>0</td>\n",
       "      <td>1</td>\n",
       "      <td>0</td>\n",
       "      <td>0</td>\n",
       "      <td>0</td>\n",
       "      <td>0</td>\n",
       "      <td>7.435604</td>\n",
       "      <td>1</td>\n",
       "      <td>QqQqQ</td>\n",
       "    </tr>\n",
       "    <tr>\n",
       "      <th>3</th>\n",
       "      <td>56.874305</td>\n",
       "      <td>5.597238</td>\n",
       "      <td>13.517609</td>\n",
       "      <td>237.602184</td>\n",
       "      <td>0</td>\n",
       "      <td>0.014691</td>\n",
       "      <td>6.310461</td>\n",
       "      <td>18.454356</td>\n",
       "      <td>89</td>\n",
       "      <td>0</td>\n",
       "      <td>...</td>\n",
       "      <td>0</td>\n",
       "      <td>1</td>\n",
       "      <td>0</td>\n",
       "      <td>1</td>\n",
       "      <td>0</td>\n",
       "      <td>0</td>\n",
       "      <td>0</td>\n",
       "      <td>0.795498</td>\n",
       "      <td>0</td>\n",
       "      <td>QqQqQ</td>\n",
       "    </tr>\n",
       "    <tr>\n",
       "      <th>4</th>\n",
       "      <td>66.533369</td>\n",
       "      <td>5.477686</td>\n",
       "      <td>1.964413</td>\n",
       "      <td>263.734149</td>\n",
       "      <td>0</td>\n",
       "      <td>9.236328</td>\n",
       "      <td>9.257695</td>\n",
       "      <td>0.646047</td>\n",
       "      <td>68</td>\n",
       "      <td>0</td>\n",
       "      <td>...</td>\n",
       "      <td>0</td>\n",
       "      <td>0</td>\n",
       "      <td>2</td>\n",
       "      <td>0</td>\n",
       "      <td>0</td>\n",
       "      <td>0</td>\n",
       "      <td>3</td>\n",
       "      <td>5.897388</td>\n",
       "      <td>0</td>\n",
       "      <td>QqQqQ</td>\n",
       "    </tr>\n",
       "  </tbody>\n",
       "</table>\n",
       "<p>5 rows × 32 columns</p>\n",
       "</div>"
      ]
     },
     "execution_count": 2,
     "metadata": {},
     "output_type": "execute_result"
    }
   ],
   "execution_count": 2
  },
  {
   "metadata": {
    "ExecuteTime": {
     "end_time": "2025-04-09T10:37:22.554360Z",
     "start_time": "2025-04-09T10:37:22.551343Z"
    }
   },
   "cell_type": "code",
   "source": "df.shape",
   "id": "5e1edaa7c5bf23bf",
   "outputs": [
    {
     "data": {
      "text/plain": [
       "(1531, 32)"
      ]
     },
     "execution_count": 3,
     "metadata": {},
     "output_type": "execute_result"
    }
   ],
   "execution_count": 3
  },
  {
   "metadata": {
    "ExecuteTime": {
     "end_time": "2025-04-09T10:37:22.593144Z",
     "start_time": "2025-04-09T10:37:22.589681Z"
    }
   },
   "cell_type": "code",
   "source": "X, Y = df.drop(['class'], axis=1), df['class']",
   "id": "b9968b1699490259",
   "outputs": [],
   "execution_count": 4
  },
  {
   "metadata": {
    "ExecuteTime": {
     "end_time": "2025-04-09T10:37:22.629766Z",
     "start_time": "2025-04-09T10:37:22.621899Z"
    }
   },
   "cell_type": "code",
   "source": "X.head()",
   "id": "28b90afaf853dd7f",
   "outputs": [
    {
     "data": {
      "text/plain": [
       "         f00       f01        f02         f03  f04       f05       f06  \\\n",
       "0  33.682563  9.025679  21.463532  242.366840    0  1.725883  6.327112   \n",
       "1  79.028477  7.151293  20.613267  231.162595    0  2.592424  7.619885   \n",
       "2  68.457491  8.392554  13.991127  159.582240    0  6.481226  8.428001   \n",
       "3  56.874305  5.597238  13.517609  237.602184    0  0.014691  6.310461   \n",
       "4  66.533369  5.477686   1.964413  263.734149    0  9.236328  9.257695   \n",
       "\n",
       "         f07  f08  f09  ...  f21  f22  f23  f24  f25  f26  f27  f28       f29  \\\n",
       "0  13.297218   73    0  ...   72    1    1    2    0    1    0    0  1.347214   \n",
       "1   4.542524   89    0  ...   64    0    0    0    0    0    0    0  0.518767   \n",
       "2  12.209266   74    0  ...  115    0    0    1    0    0    0    0  7.435604   \n",
       "3  18.454356   89    0  ...  117    0    1    0    1    0    0    0  0.795498   \n",
       "4   0.646047   68    0  ...   88    0    0    2    0    0    0    3  5.897388   \n",
       "\n",
       "   f30  \n",
       "0    0  \n",
       "1    0  \n",
       "2    1  \n",
       "3    0  \n",
       "4    0  \n",
       "\n",
       "[5 rows x 31 columns]"
      ],
      "text/html": [
       "<div>\n",
       "<style scoped>\n",
       "    .dataframe tbody tr th:only-of-type {\n",
       "        vertical-align: middle;\n",
       "    }\n",
       "\n",
       "    .dataframe tbody tr th {\n",
       "        vertical-align: top;\n",
       "    }\n",
       "\n",
       "    .dataframe thead th {\n",
       "        text-align: right;\n",
       "    }\n",
       "</style>\n",
       "<table border=\"1\" class=\"dataframe\">\n",
       "  <thead>\n",
       "    <tr style=\"text-align: right;\">\n",
       "      <th></th>\n",
       "      <th>f00</th>\n",
       "      <th>f01</th>\n",
       "      <th>f02</th>\n",
       "      <th>f03</th>\n",
       "      <th>f04</th>\n",
       "      <th>f05</th>\n",
       "      <th>f06</th>\n",
       "      <th>f07</th>\n",
       "      <th>f08</th>\n",
       "      <th>f09</th>\n",
       "      <th>...</th>\n",
       "      <th>f21</th>\n",
       "      <th>f22</th>\n",
       "      <th>f23</th>\n",
       "      <th>f24</th>\n",
       "      <th>f25</th>\n",
       "      <th>f26</th>\n",
       "      <th>f27</th>\n",
       "      <th>f28</th>\n",
       "      <th>f29</th>\n",
       "      <th>f30</th>\n",
       "    </tr>\n",
       "  </thead>\n",
       "  <tbody>\n",
       "    <tr>\n",
       "      <th>0</th>\n",
       "      <td>33.682563</td>\n",
       "      <td>9.025679</td>\n",
       "      <td>21.463532</td>\n",
       "      <td>242.366840</td>\n",
       "      <td>0</td>\n",
       "      <td>1.725883</td>\n",
       "      <td>6.327112</td>\n",
       "      <td>13.297218</td>\n",
       "      <td>73</td>\n",
       "      <td>0</td>\n",
       "      <td>...</td>\n",
       "      <td>72</td>\n",
       "      <td>1</td>\n",
       "      <td>1</td>\n",
       "      <td>2</td>\n",
       "      <td>0</td>\n",
       "      <td>1</td>\n",
       "      <td>0</td>\n",
       "      <td>0</td>\n",
       "      <td>1.347214</td>\n",
       "      <td>0</td>\n",
       "    </tr>\n",
       "    <tr>\n",
       "      <th>1</th>\n",
       "      <td>79.028477</td>\n",
       "      <td>7.151293</td>\n",
       "      <td>20.613267</td>\n",
       "      <td>231.162595</td>\n",
       "      <td>0</td>\n",
       "      <td>2.592424</td>\n",
       "      <td>7.619885</td>\n",
       "      <td>4.542524</td>\n",
       "      <td>89</td>\n",
       "      <td>0</td>\n",
       "      <td>...</td>\n",
       "      <td>64</td>\n",
       "      <td>0</td>\n",
       "      <td>0</td>\n",
       "      <td>0</td>\n",
       "      <td>0</td>\n",
       "      <td>0</td>\n",
       "      <td>0</td>\n",
       "      <td>0</td>\n",
       "      <td>0.518767</td>\n",
       "      <td>0</td>\n",
       "    </tr>\n",
       "    <tr>\n",
       "      <th>2</th>\n",
       "      <td>68.457491</td>\n",
       "      <td>8.392554</td>\n",
       "      <td>13.991127</td>\n",
       "      <td>159.582240</td>\n",
       "      <td>0</td>\n",
       "      <td>6.481226</td>\n",
       "      <td>8.428001</td>\n",
       "      <td>12.209266</td>\n",
       "      <td>74</td>\n",
       "      <td>0</td>\n",
       "      <td>...</td>\n",
       "      <td>115</td>\n",
       "      <td>0</td>\n",
       "      <td>0</td>\n",
       "      <td>1</td>\n",
       "      <td>0</td>\n",
       "      <td>0</td>\n",
       "      <td>0</td>\n",
       "      <td>0</td>\n",
       "      <td>7.435604</td>\n",
       "      <td>1</td>\n",
       "    </tr>\n",
       "    <tr>\n",
       "      <th>3</th>\n",
       "      <td>56.874305</td>\n",
       "      <td>5.597238</td>\n",
       "      <td>13.517609</td>\n",
       "      <td>237.602184</td>\n",
       "      <td>0</td>\n",
       "      <td>0.014691</td>\n",
       "      <td>6.310461</td>\n",
       "      <td>18.454356</td>\n",
       "      <td>89</td>\n",
       "      <td>0</td>\n",
       "      <td>...</td>\n",
       "      <td>117</td>\n",
       "      <td>0</td>\n",
       "      <td>1</td>\n",
       "      <td>0</td>\n",
       "      <td>1</td>\n",
       "      <td>0</td>\n",
       "      <td>0</td>\n",
       "      <td>0</td>\n",
       "      <td>0.795498</td>\n",
       "      <td>0</td>\n",
       "    </tr>\n",
       "    <tr>\n",
       "      <th>4</th>\n",
       "      <td>66.533369</td>\n",
       "      <td>5.477686</td>\n",
       "      <td>1.964413</td>\n",
       "      <td>263.734149</td>\n",
       "      <td>0</td>\n",
       "      <td>9.236328</td>\n",
       "      <td>9.257695</td>\n",
       "      <td>0.646047</td>\n",
       "      <td>68</td>\n",
       "      <td>0</td>\n",
       "      <td>...</td>\n",
       "      <td>88</td>\n",
       "      <td>0</td>\n",
       "      <td>0</td>\n",
       "      <td>2</td>\n",
       "      <td>0</td>\n",
       "      <td>0</td>\n",
       "      <td>0</td>\n",
       "      <td>3</td>\n",
       "      <td>5.897388</td>\n",
       "      <td>0</td>\n",
       "    </tr>\n",
       "  </tbody>\n",
       "</table>\n",
       "<p>5 rows × 31 columns</p>\n",
       "</div>"
      ]
     },
     "execution_count": 5,
     "metadata": {},
     "output_type": "execute_result"
    }
   ],
   "execution_count": 5
  },
  {
   "metadata": {
    "ExecuteTime": {
     "end_time": "2025-04-09T10:37:23.457187Z",
     "start_time": "2025-04-09T10:37:22.669690Z"
    }
   },
   "cell_type": "code",
   "source": "from sklearn.preprocessing import LabelEncoder, StandardScaler",
   "id": "26c84c62ef686d7a",
   "outputs": [],
   "execution_count": 6
  },
  {
   "metadata": {
    "ExecuteTime": {
     "end_time": "2025-04-09T10:37:23.470823Z",
     "start_time": "2025-04-09T10:37:23.463847Z"
    }
   },
   "cell_type": "code",
   "source": [
    "scaler = StandardScaler().fit(X)\n",
    "X = scaler.transform(X)\n",
    "X.shape"
   ],
   "id": "9261b05ae5e53d66",
   "outputs": [
    {
     "data": {
      "text/plain": [
       "(1531, 31)"
      ]
     },
     "execution_count": 7,
     "metadata": {},
     "output_type": "execute_result"
    }
   ],
   "execution_count": 7
  },
  {
   "metadata": {
    "ExecuteTime": {
     "end_time": "2025-04-09T10:37:23.482652Z",
     "start_time": "2025-04-09T10:37:23.479072Z"
    }
   },
   "cell_type": "code",
   "source": "Y.head()",
   "id": "2c0bdc975c2fdae8",
   "outputs": [
    {
     "data": {
      "text/plain": [
       "0    QqQqQ\n",
       "1    QqQqQ\n",
       "2    QqQqQ\n",
       "3    QqQqQ\n",
       "4    QqQqQ\n",
       "Name: class, dtype: object"
      ]
     },
     "execution_count": 8,
     "metadata": {},
     "output_type": "execute_result"
    }
   ],
   "execution_count": 8
  },
  {
   "metadata": {
    "ExecuteTime": {
     "end_time": "2025-04-09T10:37:23.501905Z",
     "start_time": "2025-04-09T10:37:23.497351Z"
    }
   },
   "cell_type": "code",
   "source": [
    "encoder = LabelEncoder()\n",
    "Y = encoder.fit_transform(Y)\n",
    "Y"
   ],
   "id": "632cca796570aa46",
   "outputs": [
    {
     "data": {
      "text/plain": [
       "array([1, 1, 1, ..., 0, 0, 1])"
      ]
     },
     "execution_count": 9,
     "metadata": {},
     "output_type": "execute_result"
    }
   ],
   "execution_count": 9
  },
  {
   "metadata": {
    "ExecuteTime": {
     "end_time": "2025-04-09T10:37:23.520758Z",
     "start_time": "2025-04-09T10:37:23.517498Z"
    }
   },
   "cell_type": "code",
   "source": "Y.shape, Y.sum()",
   "id": "f80ef444be74076a",
   "outputs": [
    {
     "data": {
      "text/plain": [
       "((1531,), np.int64(987))"
      ]
     },
     "execution_count": 10,
     "metadata": {},
     "output_type": "execute_result"
    }
   ],
   "execution_count": 10
  },
  {
   "metadata": {
    "ExecuteTime": {
     "end_time": "2025-04-09T10:37:26.494401Z",
     "start_time": "2025-04-09T10:37:23.528294Z"
    }
   },
   "cell_type": "code",
   "source": "import keras",
   "id": "4897c63766554d3",
   "outputs": [],
   "execution_count": 11
  },
  {
   "metadata": {
    "ExecuteTime": {
     "end_time": "2025-04-09T10:37:26.540030Z",
     "start_time": "2025-04-09T10:37:26.502900Z"
    }
   },
   "cell_type": "code",
   "source": [
    "model = keras.Sequential()\n",
    "model.add(keras.layers.Input(shape=(X.shape[-1],)))\n",
    "model.add(keras.layers.Dense(units=16, activation='relu'))\n",
    "model.add(keras.layers.Dense(units=1, activation='sigmoid'))\n",
    "model.summary()\n"
   ],
   "id": "65ff84e553277795",
   "outputs": [
    {
     "data": {
      "text/plain": [
       "\u001B[1mModel: \"sequential\"\u001B[0m\n"
      ],
      "text/html": [
       "<pre style=\"white-space:pre;overflow-x:auto;line-height:normal;font-family:Menlo,'DejaVu Sans Mono',consolas,'Courier New',monospace\"><span style=\"font-weight: bold\">Model: \"sequential\"</span>\n",
       "</pre>\n"
      ]
     },
     "metadata": {},
     "output_type": "display_data"
    },
    {
     "data": {
      "text/plain": [
       "┏━━━━━━━━━━━━━━━━━━━━━━━━━━━━━━━━━┳━━━━━━━━━━━━━━━━━━━━━━━━┳━━━━━━━━━━━━━━━┓\n",
       "┃\u001B[1m \u001B[0m\u001B[1mLayer (type)                   \u001B[0m\u001B[1m \u001B[0m┃\u001B[1m \u001B[0m\u001B[1mOutput Shape          \u001B[0m\u001B[1m \u001B[0m┃\u001B[1m \u001B[0m\u001B[1m      Param #\u001B[0m\u001B[1m \u001B[0m┃\n",
       "┡━━━━━━━━━━━━━━━━━━━━━━━━━━━━━━━━━╇━━━━━━━━━━━━━━━━━━━━━━━━╇━━━━━━━━━━━━━━━┩\n",
       "│ dense (\u001B[38;5;33mDense\u001B[0m)                   │ (\u001B[38;5;45mNone\u001B[0m, \u001B[38;5;34m16\u001B[0m)             │           \u001B[38;5;34m512\u001B[0m │\n",
       "├─────────────────────────────────┼────────────────────────┼───────────────┤\n",
       "│ dense_1 (\u001B[38;5;33mDense\u001B[0m)                 │ (\u001B[38;5;45mNone\u001B[0m, \u001B[38;5;34m1\u001B[0m)              │            \u001B[38;5;34m17\u001B[0m │\n",
       "└─────────────────────────────────┴────────────────────────┴───────────────┘\n"
      ],
      "text/html": [
       "<pre style=\"white-space:pre;overflow-x:auto;line-height:normal;font-family:Menlo,'DejaVu Sans Mono',consolas,'Courier New',monospace\">┏━━━━━━━━━━━━━━━━━━━━━━━━━━━━━━━━━┳━━━━━━━━━━━━━━━━━━━━━━━━┳━━━━━━━━━━━━━━━┓\n",
       "┃<span style=\"font-weight: bold\"> Layer (type)                    </span>┃<span style=\"font-weight: bold\"> Output Shape           </span>┃<span style=\"font-weight: bold\">       Param # </span>┃\n",
       "┡━━━━━━━━━━━━━━━━━━━━━━━━━━━━━━━━━╇━━━━━━━━━━━━━━━━━━━━━━━━╇━━━━━━━━━━━━━━━┩\n",
       "│ dense (<span style=\"color: #0087ff; text-decoration-color: #0087ff\">Dense</span>)                   │ (<span style=\"color: #00d7ff; text-decoration-color: #00d7ff\">None</span>, <span style=\"color: #00af00; text-decoration-color: #00af00\">16</span>)             │           <span style=\"color: #00af00; text-decoration-color: #00af00\">512</span> │\n",
       "├─────────────────────────────────┼────────────────────────┼───────────────┤\n",
       "│ dense_1 (<span style=\"color: #0087ff; text-decoration-color: #0087ff\">Dense</span>)                 │ (<span style=\"color: #00d7ff; text-decoration-color: #00d7ff\">None</span>, <span style=\"color: #00af00; text-decoration-color: #00af00\">1</span>)              │            <span style=\"color: #00af00; text-decoration-color: #00af00\">17</span> │\n",
       "└─────────────────────────────────┴────────────────────────┴───────────────┘\n",
       "</pre>\n"
      ]
     },
     "metadata": {},
     "output_type": "display_data"
    },
    {
     "data": {
      "text/plain": [
       "\u001B[1m Total params: \u001B[0m\u001B[38;5;34m529\u001B[0m (2.07 KB)\n"
      ],
      "text/html": [
       "<pre style=\"white-space:pre;overflow-x:auto;line-height:normal;font-family:Menlo,'DejaVu Sans Mono',consolas,'Courier New',monospace\"><span style=\"font-weight: bold\"> Total params: </span><span style=\"color: #00af00; text-decoration-color: #00af00\">529</span> (2.07 KB)\n",
       "</pre>\n"
      ]
     },
     "metadata": {},
     "output_type": "display_data"
    },
    {
     "data": {
      "text/plain": [
       "\u001B[1m Trainable params: \u001B[0m\u001B[38;5;34m529\u001B[0m (2.07 KB)\n"
      ],
      "text/html": [
       "<pre style=\"white-space:pre;overflow-x:auto;line-height:normal;font-family:Menlo,'DejaVu Sans Mono',consolas,'Courier New',monospace\"><span style=\"font-weight: bold\"> Trainable params: </span><span style=\"color: #00af00; text-decoration-color: #00af00\">529</span> (2.07 KB)\n",
       "</pre>\n"
      ]
     },
     "metadata": {},
     "output_type": "display_data"
    },
    {
     "data": {
      "text/plain": [
       "\u001B[1m Non-trainable params: \u001B[0m\u001B[38;5;34m0\u001B[0m (0.00 B)\n"
      ],
      "text/html": [
       "<pre style=\"white-space:pre;overflow-x:auto;line-height:normal;font-family:Menlo,'DejaVu Sans Mono',consolas,'Courier New',monospace\"><span style=\"font-weight: bold\"> Non-trainable params: </span><span style=\"color: #00af00; text-decoration-color: #00af00\">0</span> (0.00 B)\n",
       "</pre>\n"
      ]
     },
     "metadata": {},
     "output_type": "display_data"
    }
   ],
   "execution_count": 12
  },
  {
   "metadata": {
    "ExecuteTime": {
     "end_time": "2025-04-09T10:37:26.561769Z",
     "start_time": "2025-04-09T10:37:26.554210Z"
    }
   },
   "cell_type": "code",
   "source": "sgd = keras.optimizers.SGD(learning_rate=0.1)",
   "id": "6eb2c0dfd0ca2868",
   "outputs": [],
   "execution_count": 13
  },
  {
   "metadata": {
    "ExecuteTime": {
     "end_time": "2025-04-09T10:37:26.568542Z",
     "start_time": "2025-04-09T10:37:26.564328Z"
    }
   },
   "cell_type": "code",
   "source": "model.compile(optimizer=sgd, loss='binary_crossentropy', metrics=['accuracy', 'precision', 'recall'])",
   "id": "4c43050b1a83208f",
   "outputs": [],
   "execution_count": 14
  },
  {
   "metadata": {
    "ExecuteTime": {
     "end_time": "2025-04-09T10:37:29.080658Z",
     "start_time": "2025-04-09T10:37:26.572100Z"
    }
   },
   "cell_type": "code",
   "source": "model.fit(X, Y, epochs=100, batch_size=Y.shape[0], shuffle=True, verbose=0)",
   "id": "d2247e6b5d3d7988",
   "outputs": [
    {
     "data": {
      "text/plain": [
       "<keras.src.callbacks.history.History at 0x1433f9730>"
      ]
     },
     "execution_count": 15,
     "metadata": {},
     "output_type": "execute_result"
    }
   ],
   "execution_count": 15
  },
  {
   "metadata": {
    "ExecuteTime": {
     "end_time": "2025-04-09T10:37:29.233619Z",
     "start_time": "2025-04-09T10:37:29.148205Z"
    }
   },
   "cell_type": "code",
   "source": [
    "df_test = pd.read_csv('data/p1_test_student.csv')\n",
    "X_test, Y_test = df_test.drop(['class'], axis=1), df_test['class']\n",
    "X_test = scaler.transform(X_test)\n",
    "Y_predict = model.predict(X_test)"
   ],
   "id": "cc318dcd5607224c",
   "outputs": [
    {
     "name": "stdout",
     "output_type": "stream",
     "text": [
      "\u001B[1m10/10\u001B[0m \u001B[32m━━━━━━━━━━━━━━━━━━━━\u001B[0m\u001B[37m\u001B[0m \u001B[1m0s\u001B[0m 3ms/step \n"
     ]
    }
   ],
   "execution_count": 16
  },
  {
   "metadata": {
    "ExecuteTime": {
     "end_time": "2025-04-09T10:37:29.240103Z",
     "start_time": "2025-04-09T10:37:29.237177Z"
    }
   },
   "cell_type": "code",
   "source": [
    "Y_test = encoder.transform(Y_test).reshape(-1, 1)\n",
    "Y_test.shape"
   ],
   "id": "f2d850feecc67cdd",
   "outputs": [
    {
     "data": {
      "text/plain": [
       "(305, 1)"
      ]
     },
     "execution_count": 17,
     "metadata": {},
     "output_type": "execute_result"
    }
   ],
   "execution_count": 17
  },
  {
   "metadata": {
    "ExecuteTime": {
     "end_time": "2025-04-09T10:37:29.255169Z",
     "start_time": "2025-04-09T10:37:29.252137Z"
    }
   },
   "cell_type": "code",
   "source": [
    "Y_predict = (Y_predict >= 0.5).astype(int)\n",
    "Y_predict.shape"
   ],
   "id": "3694166c57c8c920",
   "outputs": [
    {
     "data": {
      "text/plain": [
       "(305, 1)"
      ]
     },
     "execution_count": 18,
     "metadata": {},
     "output_type": "execute_result"
    }
   ],
   "execution_count": 18
  },
  {
   "metadata": {
    "ExecuteTime": {
     "end_time": "2025-04-09T10:37:29.280029Z",
     "start_time": "2025-04-09T10:37:29.276992Z"
    }
   },
   "cell_type": "code",
   "source": [
    "accuracy = (Y_predict == Y_test).sum() / Y_test.shape[0]\n",
    "accuracy"
   ],
   "id": "bdcbb60b086f5570",
   "outputs": [
    {
     "data": {
      "text/plain": [
       "np.float64(0.7672131147540984)"
      ]
     },
     "execution_count": 19,
     "metadata": {},
     "output_type": "execute_result"
    }
   ],
   "execution_count": 19
  },
  {
   "metadata": {
    "ExecuteTime": {
     "end_time": "2025-04-09T10:37:29.293688Z",
     "start_time": "2025-04-09T10:37:29.290926Z"
    }
   },
   "cell_type": "code",
   "source": "(Y_predict == 1).sum(), (Y_predict == 0).sum()",
   "id": "3017bf9cb4c16806",
   "outputs": [
    {
     "data": {
      "text/plain": [
       "(np.int64(223), np.int64(82))"
      ]
     },
     "execution_count": 20,
     "metadata": {},
     "output_type": "execute_result"
    }
   ],
   "execution_count": 20
  },
  {
   "metadata": {
    "ExecuteTime": {
     "end_time": "2025-04-09T10:37:29.307138Z",
     "start_time": "2025-04-09T10:37:29.303961Z"
    }
   },
   "cell_type": "code",
   "source": "(Y_test == 1).sum(), (Y_test == 0).sum()",
   "id": "5e29efb7e5b36fe7",
   "outputs": [
    {
     "data": {
      "text/plain": [
       "(np.int64(196), np.int64(109))"
      ]
     },
     "execution_count": 21,
     "metadata": {},
     "output_type": "execute_result"
    }
   ],
   "execution_count": 21
  },
  {
   "metadata": {
    "ExecuteTime": {
     "end_time": "2025-04-09T10:37:29.320429Z",
     "start_time": "2025-04-09T10:37:29.317485Z"
    }
   },
   "cell_type": "code",
   "source": [
    "TP = ((Y_predict == 1) & (Y_test == 1)).sum()\n",
    "TP"
   ],
   "id": "bd74224997aefa4f",
   "outputs": [
    {
     "data": {
      "text/plain": [
       "np.int64(174)"
      ]
     },
     "execution_count": 22,
     "metadata": {},
     "output_type": "execute_result"
    }
   ],
   "execution_count": 22
  },
  {
   "metadata": {
    "ExecuteTime": {
     "end_time": "2025-04-09T10:37:29.333127Z",
     "start_time": "2025-04-09T10:37:29.329974Z"
    }
   },
   "cell_type": "code",
   "source": [
    "FP = ((Y_predict == 1) & (Y_test != 1)).sum()\n",
    "FP"
   ],
   "id": "d672780fe562d171",
   "outputs": [
    {
     "data": {
      "text/plain": [
       "np.int64(49)"
      ]
     },
     "execution_count": 23,
     "metadata": {},
     "output_type": "execute_result"
    }
   ],
   "execution_count": 23
  },
  {
   "metadata": {
    "ExecuteTime": {
     "end_time": "2025-04-09T10:37:29.340327Z",
     "start_time": "2025-04-09T10:37:29.337801Z"
    }
   },
   "cell_type": "code",
   "source": [
    "precision = TP / (TP + FP)\n",
    "precision"
   ],
   "id": "35a84ff14f1fa69",
   "outputs": [
    {
     "data": {
      "text/plain": [
       "np.float64(0.7802690582959642)"
      ]
     },
     "execution_count": 24,
     "metadata": {},
     "output_type": "execute_result"
    }
   ],
   "execution_count": 24
  },
  {
   "metadata": {
    "ExecuteTime": {
     "end_time": "2025-04-09T10:37:29.357500Z",
     "start_time": "2025-04-09T10:37:29.353953Z"
    }
   },
   "cell_type": "code",
   "source": [
    "FN = ((Y_predict != 1) & (Y_test == 0)).sum()\n",
    "FN"
   ],
   "id": "881c1902af2c9c69",
   "outputs": [
    {
     "data": {
      "text/plain": [
       "np.int64(60)"
      ]
     },
     "execution_count": 25,
     "metadata": {},
     "output_type": "execute_result"
    }
   ],
   "execution_count": 25
  },
  {
   "metadata": {
    "ExecuteTime": {
     "end_time": "2025-04-09T10:37:29.369920Z",
     "start_time": "2025-04-09T10:37:29.367277Z"
    }
   },
   "cell_type": "code",
   "source": [
    "recall =  TP / (TP + FN)\n",
    "recall"
   ],
   "id": "bc2f2bebf2dbaeff",
   "outputs": [
    {
     "data": {
      "text/plain": [
       "np.float64(0.7435897435897436)"
      ]
     },
     "execution_count": 26,
     "metadata": {},
     "output_type": "execute_result"
    }
   ],
   "execution_count": 26
  },
  {
   "metadata": {
    "ExecuteTime": {
     "end_time": "2025-04-09T10:37:29.387331Z",
     "start_time": "2025-04-09T10:37:29.384320Z"
    }
   },
   "cell_type": "code",
   "source": [
    "f1_score = 2 * precision * recall / (precision + recall)\n",
    "f1_score"
   ],
   "id": "9ee8985c400b6f5e",
   "outputs": [
    {
     "data": {
      "text/plain": [
       "np.float64(0.761487964989059)"
      ]
     },
     "execution_count": 27,
     "metadata": {},
     "output_type": "execute_result"
    }
   ],
   "execution_count": 27
  }
 ],
 "metadata": {
  "kernelspec": {
   "display_name": "Python 3",
   "language": "python",
   "name": "python3"
  },
  "language_info": {
   "codemirror_mode": {
    "name": "ipython",
    "version": 2
   },
   "file_extension": ".py",
   "mimetype": "text/x-python",
   "name": "python",
   "nbconvert_exporter": "python",
   "pygments_lexer": "ipython2",
   "version": "2.7.6"
  }
 },
 "nbformat": 4,
 "nbformat_minor": 5
}
