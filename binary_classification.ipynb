{
 "nbformat": 4,
 "nbformat_minor": 0,
 "metadata": {
  "colab": {
   "provenance": [],
   "toc_visible": true
  },
  "kernelspec": {
   "name": "python3",
   "display_name": "Python 3 (ipykernel)",
   "language": "python"
  },
  "language_info": {
   "name": "python"
  }
 },
 "cells": [
  {
   "cell_type": "code",
   "metadata": {
    "id": "Lh-OHnngb8z6",
    "ExecuteTime": {
     "end_time": "2025-04-16T08:42:27.039229Z",
     "start_time": "2025-04-16T08:42:27.036151Z"
    }
   },
   "source": [
    "import pandas as pd\n",
    "from sklearn.preprocessing import LabelEncoder, StandardScaler"
   ],
   "outputs": [],
   "execution_count": 4
  },
  {
   "cell_type": "code",
   "source": [
    "df = pd.read_csv('data/p1_train.csv')\n",
    "X, Y = df.drop(['class'], axis=1), df['class']"
   ],
   "metadata": {
    "id": "E8YAemTTdOQ8",
    "ExecuteTime": {
     "end_time": "2025-04-16T08:42:27.241663Z",
     "start_time": "2025-04-16T08:42:27.231016Z"
    }
   },
   "outputs": [],
   "execution_count": 5
  },
  {
   "cell_type": "code",
   "source": [
    "Y[Y == 'MmMmM'].shape"
   ],
   "metadata": {
    "colab": {
     "base_uri": "https://localhost:8080/"
    },
    "id": "xTVY5yDqnd8B",
    "outputId": "0a770e8e-436b-46d0-9514-d0dc34a7e720",
    "ExecuteTime": {
     "end_time": "2025-04-16T08:42:27.435506Z",
     "start_time": "2025-04-16T08:42:27.429564Z"
    }
   },
   "outputs": [
    {
     "data": {
      "text/plain": [
       "(544,)"
      ]
     },
     "execution_count": 6,
     "metadata": {},
     "output_type": "execute_result"
    }
   ],
   "execution_count": 6
  },
  {
   "cell_type": "code",
   "source": [
    "Y[Y == 'QqQqQ'].shape"
   ],
   "metadata": {
    "colab": {
     "base_uri": "https://localhost:8080/"
    },
    "id": "9C3OWu2Mn22T",
    "outputId": "ff735238-a92a-4e83-f94f-1983471d713f",
    "ExecuteTime": {
     "end_time": "2025-04-16T08:42:27.629292Z",
     "start_time": "2025-04-16T08:42:27.624892Z"
    }
   },
   "outputs": [
    {
     "data": {
      "text/plain": [
       "(987,)"
      ]
     },
     "execution_count": 7,
     "metadata": {},
     "output_type": "execute_result"
    }
   ],
   "execution_count": 7
  },
  {
   "cell_type": "code",
   "source": [
    "scaler = StandardScaler().fit(X)\n",
    "X = scaler.transform(X)\n",
    "encoder = LabelEncoder()\n",
    "Y = encoder.fit_transform(Y)"
   ],
   "metadata": {
    "id": "7kpXqoobdSja",
    "ExecuteTime": {
     "end_time": "2025-04-16T08:42:28.097731Z",
     "start_time": "2025-04-16T08:42:28.091374Z"
    }
   },
   "outputs": [],
   "execution_count": 8
  },
  {
   "cell_type": "code",
   "source": [
    "from keras import Sequential\n",
    "from keras.api.layers import Input, Dense\n",
    "from keras.api.optimizers import SGD\n",
    "from keras.api.callbacks import EarlyStopping\n",
    "from keras.api.optimizers.schedules import ExponentialDecay\n",
    "from keras.api.initializers import Zeros, RandomNormal\n",
    "from keras.api.regularizers import l1, l2"
   ],
   "metadata": {
    "id": "EEWlO16rdVPh",
    "ExecuteTime": {
     "end_time": "2025-04-16T08:42:50.703334Z",
     "start_time": "2025-04-16T08:42:28.488289Z"
    }
   },
   "outputs": [],
   "execution_count": 9
  },
  {
   "cell_type": "code",
   "source": [
    "model = Sequential()\n",
    "model.add(Input(shape=(X.shape[-1],)))\n",
    "model.add(Dense(units=32, activation='relu', kernel_initializer=RandomNormal(0, 1), kernel_regularizer=l1(0.01)))\n",
    "model.add(Dense(units=1, activation='sigmoid', kernel_initializer=Zeros(), kernel_regularizer=l2(0.001)))\n",
    "model.summary()"
   ],
   "metadata": {
    "id": "sopqwDAEdeCF",
    "colab": {
     "base_uri": "https://localhost:8080/",
     "height": 193
    },
    "outputId": "bb302336-e4d8-4615-f806-cf3d5de92c35",
    "ExecuteTime": {
     "end_time": "2025-04-16T08:42:50.755721Z",
     "start_time": "2025-04-16T08:42:50.709098Z"
    }
   },
   "outputs": [
    {
     "data": {
      "text/plain": [
       "\u001B[1mModel: \"sequential\"\u001B[0m\n"
      ],
      "text/html": [
       "<pre style=\"white-space:pre;overflow-x:auto;line-height:normal;font-family:Menlo,'DejaVu Sans Mono',consolas,'Courier New',monospace\"><span style=\"font-weight: bold\">Model: \"sequential\"</span>\n",
       "</pre>\n"
      ]
     },
     "metadata": {},
     "output_type": "display_data"
    },
    {
     "data": {
      "text/plain": [
       "┏━━━━━━━━━━━━━━━━━━━━━━━━━━━━━━━━━┳━━━━━━━━━━━━━━━━━━━━━━━━┳━━━━━━━━━━━━━━━┓\n",
       "┃\u001B[1m \u001B[0m\u001B[1mLayer (type)                   \u001B[0m\u001B[1m \u001B[0m┃\u001B[1m \u001B[0m\u001B[1mOutput Shape          \u001B[0m\u001B[1m \u001B[0m┃\u001B[1m \u001B[0m\u001B[1m      Param #\u001B[0m\u001B[1m \u001B[0m┃\n",
       "┡━━━━━━━━━━━━━━━━━━━━━━━━━━━━━━━━━╇━━━━━━━━━━━━━━━━━━━━━━━━╇━━━━━━━━━━━━━━━┩\n",
       "│ dense (\u001B[38;5;33mDense\u001B[0m)                   │ (\u001B[38;5;45mNone\u001B[0m, \u001B[38;5;34m32\u001B[0m)             │         \u001B[38;5;34m1,024\u001B[0m │\n",
       "├─────────────────────────────────┼────────────────────────┼───────────────┤\n",
       "│ dense_1 (\u001B[38;5;33mDense\u001B[0m)                 │ (\u001B[38;5;45mNone\u001B[0m, \u001B[38;5;34m1\u001B[0m)              │            \u001B[38;5;34m33\u001B[0m │\n",
       "└─────────────────────────────────┴────────────────────────┴───────────────┘\n"
      ],
      "text/html": [
       "<pre style=\"white-space:pre;overflow-x:auto;line-height:normal;font-family:Menlo,'DejaVu Sans Mono',consolas,'Courier New',monospace\">┏━━━━━━━━━━━━━━━━━━━━━━━━━━━━━━━━━┳━━━━━━━━━━━━━━━━━━━━━━━━┳━━━━━━━━━━━━━━━┓\n",
       "┃<span style=\"font-weight: bold\"> Layer (type)                    </span>┃<span style=\"font-weight: bold\"> Output Shape           </span>┃<span style=\"font-weight: bold\">       Param # </span>┃\n",
       "┡━━━━━━━━━━━━━━━━━━━━━━━━━━━━━━━━━╇━━━━━━━━━━━━━━━━━━━━━━━━╇━━━━━━━━━━━━━━━┩\n",
       "│ dense (<span style=\"color: #0087ff; text-decoration-color: #0087ff\">Dense</span>)                   │ (<span style=\"color: #00d7ff; text-decoration-color: #00d7ff\">None</span>, <span style=\"color: #00af00; text-decoration-color: #00af00\">32</span>)             │         <span style=\"color: #00af00; text-decoration-color: #00af00\">1,024</span> │\n",
       "├─────────────────────────────────┼────────────────────────┼───────────────┤\n",
       "│ dense_1 (<span style=\"color: #0087ff; text-decoration-color: #0087ff\">Dense</span>)                 │ (<span style=\"color: #00d7ff; text-decoration-color: #00d7ff\">None</span>, <span style=\"color: #00af00; text-decoration-color: #00af00\">1</span>)              │            <span style=\"color: #00af00; text-decoration-color: #00af00\">33</span> │\n",
       "└─────────────────────────────────┴────────────────────────┴───────────────┘\n",
       "</pre>\n"
      ]
     },
     "metadata": {},
     "output_type": "display_data"
    },
    {
     "data": {
      "text/plain": [
       "\u001B[1m Total params: \u001B[0m\u001B[38;5;34m1,057\u001B[0m (4.13 KB)\n"
      ],
      "text/html": [
       "<pre style=\"white-space:pre;overflow-x:auto;line-height:normal;font-family:Menlo,'DejaVu Sans Mono',consolas,'Courier New',monospace\"><span style=\"font-weight: bold\"> Total params: </span><span style=\"color: #00af00; text-decoration-color: #00af00\">1,057</span> (4.13 KB)\n",
       "</pre>\n"
      ]
     },
     "metadata": {},
     "output_type": "display_data"
    },
    {
     "data": {
      "text/plain": [
       "\u001B[1m Trainable params: \u001B[0m\u001B[38;5;34m1,057\u001B[0m (4.13 KB)\n"
      ],
      "text/html": [
       "<pre style=\"white-space:pre;overflow-x:auto;line-height:normal;font-family:Menlo,'DejaVu Sans Mono',consolas,'Courier New',monospace\"><span style=\"font-weight: bold\"> Trainable params: </span><span style=\"color: #00af00; text-decoration-color: #00af00\">1,057</span> (4.13 KB)\n",
       "</pre>\n"
      ]
     },
     "metadata": {},
     "output_type": "display_data"
    },
    {
     "data": {
      "text/plain": [
       "\u001B[1m Non-trainable params: \u001B[0m\u001B[38;5;34m0\u001B[0m (0.00 B)\n"
      ],
      "text/html": [
       "<pre style=\"white-space:pre;overflow-x:auto;line-height:normal;font-family:Menlo,'DejaVu Sans Mono',consolas,'Courier New',monospace\"><span style=\"font-weight: bold\"> Non-trainable params: </span><span style=\"color: #00af00; text-decoration-color: #00af00\">0</span> (0.00 B)\n",
       "</pre>\n"
      ]
     },
     "metadata": {},
     "output_type": "display_data"
    }
   ],
   "execution_count": 10
  },
  {
   "cell_type": "code",
   "source": [
    "lr_schedule = ExponentialDecay(\n",
    "    initial_learning_rate=0.1,\n",
    "    decay_steps=1600,\n",
    "    decay_rate=0.95,\n",
    "    staircase=False\n",
    ")\n",
    "sgd_optimizer = SGD(learning_rate=lr_schedule)\n",
    "model.compile(optimizer=sgd_optimizer, loss='binary_crossentropy', metrics=['accuracy', 'precision', 'recall'])\n",
    "early_stop = EarlyStopping(monitor='loss', mode='min', min_delta=0.0001, patience=10, restore_best_weights=True)"
   ],
   "metadata": {
    "id": "DtcivJ1cd99g",
    "ExecuteTime": {
     "end_time": "2025-04-16T08:42:50.802159Z",
     "start_time": "2025-04-16T08:42:50.793275Z"
    }
   },
   "outputs": [],
   "execution_count": 11
  },
  {
   "cell_type": "code",
   "source": [
    "history = model.fit(X, Y, epochs=300, batch_size=16, shuffle=True, class_weight={0:1.5, 1:1}, callbacks=[early_stop])"
   ],
   "metadata": {
    "colab": {
     "base_uri": "https://localhost:8080/"
    },
    "id": "GhU5IdKFeDTs",
    "outputId": "a2a103b8-237e-44b7-b1a4-740edee00d14",
    "ExecuteTime": {
     "end_time": "2025-04-16T08:43:01.822385Z",
     "start_time": "2025-04-16T08:42:50.817871Z"
    }
   },
   "outputs": [
    {
     "name": "stdout",
     "output_type": "stream",
     "text": [
      "Epoch 1/300\n",
      "\u001B[1m96/96\u001B[0m \u001B[32m━━━━━━━━━━━━━━━━━━━━\u001B[0m\u001B[37m\u001B[0m \u001B[1m1s\u001B[0m 815us/step - accuracy: 0.6279 - loss: 9.2009 - precision: 0.7485 - recall: 0.6309\n",
      "Epoch 2/300\n",
      "\u001B[1m96/96\u001B[0m \u001B[32m━━━━━━━━━━━━━━━━━━━━\u001B[0m\u001B[37m\u001B[0m \u001B[1m0s\u001B[0m 708us/step - accuracy: 0.6817 - loss: 8.0465 - precision: 0.7820 - recall: 0.6992\n",
      "Epoch 3/300\n",
      "\u001B[1m96/96\u001B[0m \u001B[32m━━━━━━━━━━━━━━━━━━━━\u001B[0m\u001B[37m\u001B[0m \u001B[1m0s\u001B[0m 709us/step - accuracy: 0.7257 - loss: 6.8991 - precision: 0.8207 - recall: 0.7516\n",
      "Epoch 4/300\n",
      "\u001B[1m96/96\u001B[0m \u001B[32m━━━━━━━━━━━━━━━━━━━━\u001B[0m\u001B[37m\u001B[0m \u001B[1m0s\u001B[0m 714us/step - accuracy: 0.7366 - loss: 6.0049 - precision: 0.8095 - recall: 0.7640\n",
      "Epoch 5/300\n",
      "\u001B[1m96/96\u001B[0m \u001B[32m━━━━━━━━━━━━━━━━━━━━\u001B[0m\u001B[37m\u001B[0m \u001B[1m0s\u001B[0m 705us/step - accuracy: 0.7745 - loss: 5.1420 - precision: 0.8521 - recall: 0.7847\n",
      "Epoch 6/300\n",
      "\u001B[1m96/96\u001B[0m \u001B[32m━━━━━━━━━━━━━━━━━━━━\u001B[0m\u001B[37m\u001B[0m \u001B[1m0s\u001B[0m 697us/step - accuracy: 0.7571 - loss: 4.5233 - precision: 0.8320 - recall: 0.7788\n",
      "Epoch 7/300\n",
      "\u001B[1m96/96\u001B[0m \u001B[32m━━━━━━━━━━━━━━━━━━━━\u001B[0m\u001B[37m\u001B[0m \u001B[1m0s\u001B[0m 706us/step - accuracy: 0.7976 - loss: 3.8844 - precision: 0.8592 - recall: 0.8266\n",
      "Epoch 8/300\n",
      "\u001B[1m96/96\u001B[0m \u001B[32m━━━━━━━━━━━━━━━━━━━━\u001B[0m\u001B[37m\u001B[0m \u001B[1m0s\u001B[0m 709us/step - accuracy: 0.8153 - loss: 3.3182 - precision: 0.8667 - recall: 0.8413\n",
      "Epoch 9/300\n",
      "\u001B[1m96/96\u001B[0m \u001B[32m━━━━━━━━━━━━━━━━━━━━\u001B[0m\u001B[37m\u001B[0m \u001B[1m0s\u001B[0m 704us/step - accuracy: 0.8263 - loss: 2.8844 - precision: 0.8819 - recall: 0.8443\n",
      "Epoch 10/300\n",
      "\u001B[1m96/96\u001B[0m \u001B[32m━━━━━━━━━━━━━━━━━━━━\u001B[0m\u001B[37m\u001B[0m \u001B[1m0s\u001B[0m 743us/step - accuracy: 0.8344 - loss: 2.4787 - precision: 0.8921 - recall: 0.8490\n",
      "Epoch 11/300\n",
      "\u001B[1m96/96\u001B[0m \u001B[32m━━━━━━━━━━━━━━━━━━━━\u001B[0m\u001B[37m\u001B[0m \u001B[1m0s\u001B[0m 701us/step - accuracy: 0.8501 - loss: 2.1420 - precision: 0.8923 - recall: 0.8729\n",
      "Epoch 12/300\n",
      "\u001B[1m96/96\u001B[0m \u001B[32m━━━━━━━━━━━━━━━━━━━━\u001B[0m\u001B[37m\u001B[0m \u001B[1m0s\u001B[0m 701us/step - accuracy: 0.8478 - loss: 1.8639 - precision: 0.9016 - recall: 0.8552\n",
      "Epoch 13/300\n",
      "\u001B[1m96/96\u001B[0m \u001B[32m━━━━━━━━━━━━━━━━━━━━\u001B[0m\u001B[37m\u001B[0m \u001B[1m0s\u001B[0m 710us/step - accuracy: 0.8495 - loss: 1.6543 - precision: 0.8844 - recall: 0.8823\n",
      "Epoch 14/300\n",
      "\u001B[1m96/96\u001B[0m \u001B[32m━━━━━━━━━━━━━━━━━━━━\u001B[0m\u001B[37m\u001B[0m \u001B[1m0s\u001B[0m 702us/step - accuracy: 0.8548 - loss: 1.4311 - precision: 0.8911 - recall: 0.8866\n",
      "Epoch 15/300\n",
      "\u001B[1m96/96\u001B[0m \u001B[32m━━━━━━━━━━━━━━━━━━━━\u001B[0m\u001B[37m\u001B[0m \u001B[1m0s\u001B[0m 701us/step - accuracy: 0.8673 - loss: 1.2478 - precision: 0.8950 - recall: 0.8991\n",
      "Epoch 16/300\n",
      "\u001B[1m96/96\u001B[0m \u001B[32m━━━━━━━━━━━━━━━━━━━━\u001B[0m\u001B[37m\u001B[0m \u001B[1m0s\u001B[0m 738us/step - accuracy: 0.8495 - loss: 1.1559 - precision: 0.8743 - recall: 0.8959\n",
      "Epoch 17/300\n",
      "\u001B[1m96/96\u001B[0m \u001B[32m━━━━━━━━━━━━━━━━━━━━\u001B[0m\u001B[37m\u001B[0m \u001B[1m0s\u001B[0m 700us/step - accuracy: 0.8706 - loss: 0.9697 - precision: 0.9130 - recall: 0.8843\n",
      "Epoch 18/300\n",
      "\u001B[1m96/96\u001B[0m \u001B[32m━━━━━━━━━━━━━━━━━━━━\u001B[0m\u001B[37m\u001B[0m \u001B[1m0s\u001B[0m 698us/step - accuracy: 0.8755 - loss: 0.8561 - precision: 0.9138 - recall: 0.8949\n",
      "Epoch 19/300\n",
      "\u001B[1m96/96\u001B[0m \u001B[32m━━━━━━━━━━━━━━━━━━━━\u001B[0m\u001B[37m\u001B[0m \u001B[1m0s\u001B[0m 695us/step - accuracy: 0.8620 - loss: 0.8032 - precision: 0.9061 - recall: 0.8824\n",
      "Epoch 20/300\n",
      "\u001B[1m96/96\u001B[0m \u001B[32m━━━━━━━━━━━━━━━━━━━━\u001B[0m\u001B[37m\u001B[0m \u001B[1m0s\u001B[0m 697us/step - accuracy: 0.8578 - loss: 0.7422 - precision: 0.9017 - recall: 0.8767\n",
      "Epoch 21/300\n",
      "\u001B[1m96/96\u001B[0m \u001B[32m━━━━━━━━━━━━━━━━━━━━\u001B[0m\u001B[37m\u001B[0m \u001B[1m0s\u001B[0m 701us/step - accuracy: 0.8683 - loss: 0.6819 - precision: 0.9137 - recall: 0.8769\n",
      "Epoch 22/300\n",
      "\u001B[1m96/96\u001B[0m \u001B[32m━━━━━━━━━━━━━━━━━━━━\u001B[0m\u001B[37m\u001B[0m \u001B[1m0s\u001B[0m 752us/step - accuracy: 0.8515 - loss: 0.6734 - precision: 0.8879 - recall: 0.8722\n",
      "Epoch 23/300\n",
      "\u001B[1m96/96\u001B[0m \u001B[32m━━━━━━━━━━━━━━━━━━━━\u001B[0m\u001B[37m\u001B[0m \u001B[1m0s\u001B[0m 703us/step - accuracy: 0.8740 - loss: 0.6136 - precision: 0.9049 - recall: 0.8929\n",
      "Epoch 24/300\n",
      "\u001B[1m96/96\u001B[0m \u001B[32m━━━━━━━━━━━━━━━━━━━━\u001B[0m\u001B[37m\u001B[0m \u001B[1m0s\u001B[0m 750us/step - accuracy: 0.8618 - loss: 0.5993 - precision: 0.9026 - recall: 0.8812\n",
      "Epoch 25/300\n",
      "\u001B[1m96/96\u001B[0m \u001B[32m━━━━━━━━━━━━━━━━━━━━\u001B[0m\u001B[37m\u001B[0m \u001B[1m0s\u001B[0m 785us/step - accuracy: 0.8763 - loss: 0.5201 - precision: 0.9228 - recall: 0.8843\n",
      "Epoch 26/300\n",
      "\u001B[1m96/96\u001B[0m \u001B[32m━━━━━━━━━━━━━━━━━━━━\u001B[0m\u001B[37m\u001B[0m \u001B[1m0s\u001B[0m 701us/step - accuracy: 0.8728 - loss: 0.5503 - precision: 0.9190 - recall: 0.8854\n",
      "Epoch 27/300\n",
      "\u001B[1m96/96\u001B[0m \u001B[32m━━━━━━━━━━━━━━━━━━━━\u001B[0m\u001B[37m\u001B[0m \u001B[1m0s\u001B[0m 702us/step - accuracy: 0.8659 - loss: 0.5540 - precision: 0.9026 - recall: 0.8861\n",
      "Epoch 28/300\n",
      "\u001B[1m96/96\u001B[0m \u001B[32m━━━━━━━━━━━━━━━━━━━━\u001B[0m\u001B[37m\u001B[0m \u001B[1m0s\u001B[0m 754us/step - accuracy: 0.8551 - loss: 0.5286 - precision: 0.9189 - recall: 0.8457\n",
      "Epoch 29/300\n",
      "\u001B[1m96/96\u001B[0m \u001B[32m━━━━━━━━━━━━━━━━━━━━\u001B[0m\u001B[37m\u001B[0m \u001B[1m0s\u001B[0m 811us/step - accuracy: 0.8856 - loss: 0.4997 - precision: 0.9239 - recall: 0.8996\n",
      "Epoch 30/300\n",
      "\u001B[1m96/96\u001B[0m \u001B[32m━━━━━━━━━━━━━━━━━━━━\u001B[0m\u001B[37m\u001B[0m \u001B[1m0s\u001B[0m 824us/step - accuracy: 0.8743 - loss: 0.5286 - precision: 0.9066 - recall: 0.8927\n",
      "Epoch 31/300\n",
      "\u001B[1m96/96\u001B[0m \u001B[32m━━━━━━━━━━━━━━━━━━━━\u001B[0m\u001B[37m\u001B[0m \u001B[1m0s\u001B[0m 903us/step - accuracy: 0.8736 - loss: 0.5465 - precision: 0.9085 - recall: 0.8998\n",
      "Epoch 32/300\n",
      "\u001B[1m96/96\u001B[0m \u001B[32m━━━━━━━━━━━━━━━━━━━━\u001B[0m\u001B[37m\u001B[0m \u001B[1m0s\u001B[0m 879us/step - accuracy: 0.8793 - loss: 0.4947 - precision: 0.9173 - recall: 0.9017\n",
      "Epoch 33/300\n",
      "\u001B[1m96/96\u001B[0m \u001B[32m━━━━━━━━━━━━━━━━━━━━\u001B[0m\u001B[37m\u001B[0m \u001B[1m0s\u001B[0m 1ms/step - accuracy: 0.8695 - loss: 0.5239 - precision: 0.9095 - recall: 0.8811  \n",
      "Epoch 34/300\n",
      "\u001B[1m96/96\u001B[0m \u001B[32m━━━━━━━━━━━━━━━━━━━━\u001B[0m\u001B[37m\u001B[0m \u001B[1m0s\u001B[0m 1ms/step - accuracy: 0.8721 - loss: 0.5109 - precision: 0.9000 - recall: 0.9025  \n",
      "Epoch 35/300\n",
      "\u001B[1m96/96\u001B[0m \u001B[32m━━━━━━━━━━━━━━━━━━━━\u001B[0m\u001B[37m\u001B[0m \u001B[1m0s\u001B[0m 2ms/step - accuracy: 0.8667 - loss: 0.5409 - precision: 0.9218 - recall: 0.8664\n",
      "Epoch 36/300\n",
      "\u001B[1m96/96\u001B[0m \u001B[32m━━━━━━━━━━━━━━━━━━━━\u001B[0m\u001B[37m\u001B[0m \u001B[1m0s\u001B[0m 2ms/step - accuracy: 0.8626 - loss: 0.5345 - precision: 0.9062 - recall: 0.8849\n",
      "Epoch 37/300\n",
      "\u001B[1m96/96\u001B[0m \u001B[32m━━━━━━━━━━━━━━━━━━━━\u001B[0m\u001B[37m\u001B[0m \u001B[1m0s\u001B[0m 1ms/step - accuracy: 0.8821 - loss: 0.5041 - precision: 0.9261 - recall: 0.8933\n",
      "Epoch 38/300\n",
      "\u001B[1m96/96\u001B[0m \u001B[32m━━━━━━━━━━━━━━━━━━━━\u001B[0m\u001B[37m\u001B[0m \u001B[1m0s\u001B[0m 1ms/step - accuracy: 0.8592 - loss: 0.5217 - precision: 0.9046 - recall: 0.8788\n",
      "Epoch 39/300\n",
      "\u001B[1m96/96\u001B[0m \u001B[32m━━━━━━━━━━━━━━━━━━━━\u001B[0m\u001B[37m\u001B[0m \u001B[1m0s\u001B[0m 1ms/step - accuracy: 0.8673 - loss: 0.5212 - precision: 0.9189 - recall: 0.8689\n",
      "Epoch 40/300\n",
      "\u001B[1m96/96\u001B[0m \u001B[32m━━━━━━━━━━━━━━━━━━━━\u001B[0m\u001B[37m\u001B[0m \u001B[1m0s\u001B[0m 1ms/step - accuracy: 0.8745 - loss: 0.5404 - precision: 0.9095 - recall: 0.8937\n",
      "Epoch 41/300\n",
      "\u001B[1m96/96\u001B[0m \u001B[32m━━━━━━━━━━━━━━━━━━━━\u001B[0m\u001B[37m\u001B[0m \u001B[1m0s\u001B[0m 1ms/step - accuracy: 0.8730 - loss: 0.4793 - precision: 0.9139 - recall: 0.8926\n",
      "Epoch 42/300\n",
      "\u001B[1m96/96\u001B[0m \u001B[32m━━━━━━━━━━━━━━━━━━━━\u001B[0m\u001B[37m\u001B[0m \u001B[1m0s\u001B[0m 1ms/step - accuracy: 0.8816 - loss: 0.5232 - precision: 0.9114 - recall: 0.8993\n",
      "Epoch 43/300\n",
      "\u001B[1m96/96\u001B[0m \u001B[32m━━━━━━━━━━━━━━━━━━━━\u001B[0m\u001B[37m\u001B[0m \u001B[1m0s\u001B[0m 1ms/step - accuracy: 0.8580 - loss: 0.5591 - precision: 0.9010 - recall: 0.8779\n",
      "Epoch 44/300\n",
      "\u001B[1m96/96\u001B[0m \u001B[32m━━━━━━━━━━━━━━━━━━━━\u001B[0m\u001B[37m\u001B[0m \u001B[1m0s\u001B[0m 1ms/step - accuracy: 0.8673 - loss: 0.5408 - precision: 0.9097 - recall: 0.8872\n",
      "Epoch 45/300\n",
      "\u001B[1m96/96\u001B[0m \u001B[32m━━━━━━━━━━━━━━━━━━━━\u001B[0m\u001B[37m\u001B[0m \u001B[1m0s\u001B[0m 1ms/step - accuracy: 0.8636 - loss: 0.5567 - precision: 0.9045 - recall: 0.8818\n",
      "Epoch 46/300\n",
      "\u001B[1m96/96\u001B[0m \u001B[32m━━━━━━━━━━━━━━━━━━━━\u001B[0m\u001B[37m\u001B[0m \u001B[1m0s\u001B[0m 1ms/step - accuracy: 0.8723 - loss: 0.5363 - precision: 0.9158 - recall: 0.8811\n",
      "Epoch 47/300\n",
      "\u001B[1m96/96\u001B[0m \u001B[32m━━━━━━━━━━━━━━━━━━━━\u001B[0m\u001B[37m\u001B[0m \u001B[1m0s\u001B[0m 1ms/step - accuracy: 0.8724 - loss: 0.5108 - precision: 0.9126 - recall: 0.8910\n",
      "Epoch 48/300\n",
      "\u001B[1m96/96\u001B[0m \u001B[32m━━━━━━━━━━━━━━━━━━━━\u001B[0m\u001B[37m\u001B[0m \u001B[1m0s\u001B[0m 1ms/step - accuracy: 0.8641 - loss: 0.5062 - precision: 0.9123 - recall: 0.8741\n",
      "Epoch 49/300\n",
      "\u001B[1m96/96\u001B[0m \u001B[32m━━━━━━━━━━━━━━━━━━━━\u001B[0m\u001B[37m\u001B[0m \u001B[1m0s\u001B[0m 1ms/step - accuracy: 0.8827 - loss: 0.4903 - precision: 0.9172 - recall: 0.8984  \n",
      "Epoch 50/300\n",
      "\u001B[1m96/96\u001B[0m \u001B[32m━━━━━━━━━━━━━━━━━━━━\u001B[0m\u001B[37m\u001B[0m \u001B[1m0s\u001B[0m 1ms/step - accuracy: 0.8782 - loss: 0.5059 - precision: 0.9116 - recall: 0.8892  \n",
      "Epoch 51/300\n",
      "\u001B[1m96/96\u001B[0m \u001B[32m━━━━━━━━━━━━━━━━━━━━\u001B[0m\u001B[37m\u001B[0m \u001B[1m0s\u001B[0m 1ms/step - accuracy: 0.8648 - loss: 0.5213 - precision: 0.9066 - recall: 0.8780\n",
      "Epoch 52/300\n",
      "\u001B[1m96/96\u001B[0m \u001B[32m━━━━━━━━━━━━━━━━━━━━\u001B[0m\u001B[37m\u001B[0m \u001B[1m0s\u001B[0m 1ms/step - accuracy: 0.8831 - loss: 0.4956 - precision: 0.9195 - recall: 0.8968\n",
      "Epoch 53/300\n",
      "\u001B[1m96/96\u001B[0m \u001B[32m━━━━━━━━━━━━━━━━━━━━\u001B[0m\u001B[37m\u001B[0m \u001B[1m0s\u001B[0m 1ms/step - accuracy: 0.8664 - loss: 0.5328 - precision: 0.9085 - recall: 0.8863  \n",
      "Epoch 54/300\n",
      "\u001B[1m96/96\u001B[0m \u001B[32m━━━━━━━━━━━━━━━━━━━━\u001B[0m\u001B[37m\u001B[0m \u001B[1m0s\u001B[0m 1ms/step - accuracy: 0.8773 - loss: 0.5250 - precision: 0.9078 - recall: 0.8971\n",
      "Epoch 55/300\n",
      "\u001B[1m96/96\u001B[0m \u001B[32m━━━━━━━━━━━━━━━━━━━━\u001B[0m\u001B[37m\u001B[0m \u001B[1m0s\u001B[0m 1ms/step - accuracy: 0.8761 - loss: 0.5130 - precision: 0.9090 - recall: 0.9013  \n",
      "Epoch 56/300\n",
      "\u001B[1m96/96\u001B[0m \u001B[32m━━━━━━━━━━━━━━━━━━━━\u001B[0m\u001B[37m\u001B[0m \u001B[1m0s\u001B[0m 1ms/step - accuracy: 0.8735 - loss: 0.5227 - precision: 0.9128 - recall: 0.8950  \n",
      "Epoch 57/300\n",
      "\u001B[1m96/96\u001B[0m \u001B[32m━━━━━━━━━━━━━━━━━━━━\u001B[0m\u001B[37m\u001B[0m \u001B[1m0s\u001B[0m 1ms/step - accuracy: 0.8639 - loss: 0.5134 - precision: 0.9064 - recall: 0.8801\n",
      "Epoch 58/300\n",
      "\u001B[1m96/96\u001B[0m \u001B[32m━━━━━━━━━━━━━━━━━━━━\u001B[0m\u001B[37m\u001B[0m \u001B[1m0s\u001B[0m 1ms/step - accuracy: 0.8699 - loss: 0.5070 - precision: 0.9163 - recall: 0.8841\n",
      "Epoch 59/300\n",
      "\u001B[1m96/96\u001B[0m \u001B[32m━━━━━━━━━━━━━━━━━━━━\u001B[0m\u001B[37m\u001B[0m \u001B[1m0s\u001B[0m 1ms/step - accuracy: 0.8858 - loss: 0.4831 - precision: 0.9296 - recall: 0.8911\n",
      "Epoch 60/300\n",
      "\u001B[1m96/96\u001B[0m \u001B[32m━━━━━━━━━━━━━━━━━━━━\u001B[0m\u001B[37m\u001B[0m \u001B[1m0s\u001B[0m 1ms/step - accuracy: 0.8841 - loss: 0.4737 - precision: 0.9220 - recall: 0.8957\n",
      "Epoch 61/300\n",
      "\u001B[1m96/96\u001B[0m \u001B[32m━━━━━━━━━━━━━━━━━━━━\u001B[0m\u001B[37m\u001B[0m \u001B[1m0s\u001B[0m 1ms/step - accuracy: 0.8796 - loss: 0.4906 - precision: 0.9087 - recall: 0.9031\n",
      "Epoch 62/300\n",
      "\u001B[1m96/96\u001B[0m \u001B[32m━━━━━━━━━━━━━━━━━━━━\u001B[0m\u001B[37m\u001B[0m \u001B[1m0s\u001B[0m 1ms/step - accuracy: 0.8764 - loss: 0.5263 - precision: 0.9128 - recall: 0.8934\n",
      "Epoch 63/300\n",
      "\u001B[1m96/96\u001B[0m \u001B[32m━━━━━━━━━━━━━━━━━━━━\u001B[0m\u001B[37m\u001B[0m \u001B[1m0s\u001B[0m 1ms/step - accuracy: 0.8933 - loss: 0.4792 - precision: 0.9297 - recall: 0.8978  \n",
      "Epoch 64/300\n",
      "\u001B[1m96/96\u001B[0m \u001B[32m━━━━━━━━━━━━━━━━━━━━\u001B[0m\u001B[37m\u001B[0m \u001B[1m0s\u001B[0m 1ms/step - accuracy: 0.8655 - loss: 0.5140 - precision: 0.9060 - recall: 0.8827  \n",
      "Epoch 65/300\n",
      "\u001B[1m96/96\u001B[0m \u001B[32m━━━━━━━━━━━━━━━━━━━━\u001B[0m\u001B[37m\u001B[0m \u001B[1m0s\u001B[0m 1ms/step - accuracy: 0.8790 - loss: 0.4868 - precision: 0.9319 - recall: 0.8844  \n",
      "Epoch 66/300\n",
      "\u001B[1m96/96\u001B[0m \u001B[32m━━━━━━━━━━━━━━━━━━━━\u001B[0m\u001B[37m\u001B[0m \u001B[1m0s\u001B[0m 1ms/step - accuracy: 0.8833 - loss: 0.4910 - precision: 0.9278 - recall: 0.8891\n",
      "Epoch 67/300\n",
      "\u001B[1m96/96\u001B[0m \u001B[32m━━━━━━━━━━━━━━━━━━━━\u001B[0m\u001B[37m\u001B[0m \u001B[1m0s\u001B[0m 1ms/step - accuracy: 0.8716 - loss: 0.5012 - precision: 0.9015 - recall: 0.8923  \n",
      "Epoch 68/300\n",
      "\u001B[1m96/96\u001B[0m \u001B[32m━━━━━━━━━━━━━━━━━━━━\u001B[0m\u001B[37m\u001B[0m \u001B[1m0s\u001B[0m 976us/step - accuracy: 0.8800 - loss: 0.4943 - precision: 0.9106 - recall: 0.9061\n",
      "Epoch 69/300\n",
      "\u001B[1m96/96\u001B[0m \u001B[32m━━━━━━━━━━━━━━━━━━━━\u001B[0m\u001B[37m\u001B[0m \u001B[1m0s\u001B[0m 908us/step - accuracy: 0.8669 - loss: 0.5065 - precision: 0.9116 - recall: 0.8804\n",
      "Epoch 70/300\n",
      "\u001B[1m96/96\u001B[0m \u001B[32m━━━━━━━━━━━━━━━━━━━━\u001B[0m\u001B[37m\u001B[0m \u001B[1m0s\u001B[0m 994us/step - accuracy: 0.8666 - loss: 0.5089 - precision: 0.9033 - recall: 0.8811\n",
      "Epoch 71/300\n",
      "\u001B[1m96/96\u001B[0m \u001B[32m━━━━━━━━━━━━━━━━━━━━\u001B[0m\u001B[37m\u001B[0m \u001B[1m0s\u001B[0m 947us/step - accuracy: 0.8616 - loss: 0.5248 - precision: 0.8960 - recall: 0.8805\n",
      "Epoch 72/300\n",
      "\u001B[1m96/96\u001B[0m \u001B[32m━━━━━━━━━━━━━━━━━━━━\u001B[0m\u001B[37m\u001B[0m \u001B[1m0s\u001B[0m 1ms/step - accuracy: 0.8630 - loss: 0.5113 - precision: 0.9027 - recall: 0.8818  \n",
      "Epoch 73/300\n",
      "\u001B[1m96/96\u001B[0m \u001B[32m━━━━━━━━━━━━━━━━━━━━\u001B[0m\u001B[37m\u001B[0m \u001B[1m0s\u001B[0m 1ms/step - accuracy: 0.8733 - loss: 0.5247 - precision: 0.9094 - recall: 0.8876  \n",
      "Epoch 74/300\n",
      "\u001B[1m96/96\u001B[0m \u001B[32m━━━━━━━━━━━━━━━━━━━━\u001B[0m\u001B[37m\u001B[0m \u001B[1m0s\u001B[0m 1ms/step - accuracy: 0.8697 - loss: 0.5129 - precision: 0.9125 - recall: 0.8803  \n",
      "Epoch 75/300\n",
      "\u001B[1m96/96\u001B[0m \u001B[32m━━━━━━━━━━━━━━━━━━━━\u001B[0m\u001B[37m\u001B[0m \u001B[1m0s\u001B[0m 1ms/step - accuracy: 0.8675 - loss: 0.5029 - precision: 0.9088 - recall: 0.8812\n",
      "Epoch 76/300\n",
      "\u001B[1m96/96\u001B[0m \u001B[32m━━━━━━━━━━━━━━━━━━━━\u001B[0m\u001B[37m\u001B[0m \u001B[1m0s\u001B[0m 1ms/step - accuracy: 0.8795 - loss: 0.5151 - precision: 0.9110 - recall: 0.8996  \n",
      "Epoch 77/300\n",
      "\u001B[1m96/96\u001B[0m \u001B[32m━━━━━━━━━━━━━━━━━━━━\u001B[0m\u001B[37m\u001B[0m \u001B[1m0s\u001B[0m 1ms/step - accuracy: 0.8631 - loss: 0.5106 - precision: 0.8996 - recall: 0.8871  \n",
      "Epoch 78/300\n",
      "\u001B[1m96/96\u001B[0m \u001B[32m━━━━━━━━━━━━━━━━━━━━\u001B[0m\u001B[37m\u001B[0m \u001B[1m0s\u001B[0m 954us/step - accuracy: 0.8818 - loss: 0.5212 - precision: 0.9126 - recall: 0.9071\n",
      "Epoch 79/300\n",
      "\u001B[1m96/96\u001B[0m \u001B[32m━━━━━━━━━━━━━━━━━━━━\u001B[0m\u001B[37m\u001B[0m \u001B[1m0s\u001B[0m 1ms/step - accuracy: 0.8753 - loss: 0.5102 - precision: 0.9110 - recall: 0.8988  \n",
      "Epoch 80/300\n",
      "\u001B[1m96/96\u001B[0m \u001B[32m━━━━━━━━━━━━━━━━━━━━\u001B[0m\u001B[37m\u001B[0m \u001B[1m0s\u001B[0m 2ms/step - accuracy: 0.8803 - loss: 0.4904 - precision: 0.9119 - recall: 0.9079\n",
      "Epoch 81/300\n",
      "\u001B[1m96/96\u001B[0m \u001B[32m━━━━━━━━━━━━━━━━━━━━\u001B[0m\u001B[37m\u001B[0m \u001B[1m0s\u001B[0m 2ms/step - accuracy: 0.8819 - loss: 0.4905 - precision: 0.9185 - recall: 0.8925\n",
      "Epoch 82/300\n",
      "\u001B[1m96/96\u001B[0m \u001B[32m━━━━━━━━━━━━━━━━━━━━\u001B[0m\u001B[37m\u001B[0m \u001B[1m0s\u001B[0m 1ms/step - accuracy: 0.8855 - loss: 0.4925 - precision: 0.9217 - recall: 0.8987\n",
      "Epoch 83/300\n",
      "\u001B[1m96/96\u001B[0m \u001B[32m━━━━━━━━━━━━━━━━━━━━\u001B[0m\u001B[37m\u001B[0m \u001B[1m0s\u001B[0m 993us/step - accuracy: 0.8806 - loss: 0.4965 - precision: 0.9183 - recall: 0.8913\n",
      "Epoch 84/300\n",
      "\u001B[1m96/96\u001B[0m \u001B[32m━━━━━━━━━━━━━━━━━━━━\u001B[0m\u001B[37m\u001B[0m \u001B[1m0s\u001B[0m 922us/step - accuracy: 0.8767 - loss: 0.4998 - precision: 0.9103 - recall: 0.8908\n",
      "Epoch 85/300\n",
      "\u001B[1m96/96\u001B[0m \u001B[32m━━━━━━━━━━━━━━━━━━━━\u001B[0m\u001B[37m\u001B[0m \u001B[1m0s\u001B[0m 895us/step - accuracy: 0.8618 - loss: 0.5052 - precision: 0.9010 - recall: 0.8851\n",
      "Epoch 86/300\n",
      "\u001B[1m96/96\u001B[0m \u001B[32m━━━━━━━━━━━━━━━━━━━━\u001B[0m\u001B[37m\u001B[0m \u001B[1m0s\u001B[0m 905us/step - accuracy: 0.8627 - loss: 0.5329 - precision: 0.8986 - recall: 0.8807\n",
      "Epoch 87/300\n",
      "\u001B[1m96/96\u001B[0m \u001B[32m━━━━━━━━━━━━━━━━━━━━\u001B[0m\u001B[37m\u001B[0m \u001B[1m0s\u001B[0m 916us/step - accuracy: 0.8731 - loss: 0.4933 - precision: 0.9165 - recall: 0.8811\n",
      "Epoch 88/300\n",
      "\u001B[1m96/96\u001B[0m \u001B[32m━━━━━━━━━━━━━━━━━━━━\u001B[0m\u001B[37m\u001B[0m \u001B[1m0s\u001B[0m 855us/step - accuracy: 0.8834 - loss: 0.4881 - precision: 0.9239 - recall: 0.8958\n",
      "Epoch 89/300\n",
      "\u001B[1m96/96\u001B[0m \u001B[32m━━━━━━━━━━━━━━━━━━━━\u001B[0m\u001B[37m\u001B[0m \u001B[1m0s\u001B[0m 878us/step - accuracy: 0.8725 - loss: 0.5198 - precision: 0.9038 - recall: 0.8917\n",
      "Epoch 90/300\n",
      "\u001B[1m96/96\u001B[0m \u001B[32m━━━━━━━━━━━━━━━━━━━━\u001B[0m\u001B[37m\u001B[0m \u001B[1m0s\u001B[0m 940us/step - accuracy: 0.8732 - loss: 0.4945 - precision: 0.9080 - recall: 0.8919\n"
     ]
    }
   ],
   "execution_count": 12
  },
  {
   "cell_type": "code",
   "source": [
    "df_test = pd.read_csv('data/p1_test_student.csv')\n",
    "X_test, Y_test = df_test.drop(['class'], axis=1), df_test['class']\n",
    "X_test = scaler.transform(X_test)\n",
    "Y_predict = model.predict(X_test)"
   ],
   "metadata": {
    "colab": {
     "base_uri": "https://localhost:8080/"
    },
    "id": "MIFGVOoHeJ77",
    "outputId": "e7384bbe-5d36-4486-bf5d-097b1a09ab07",
    "ExecuteTime": {
     "end_time": "2025-04-16T08:43:01.939577Z",
     "start_time": "2025-04-16T08:43:01.835489Z"
    }
   },
   "outputs": [
    {
     "name": "stdout",
     "output_type": "stream",
     "text": [
      "\u001B[1m10/10\u001B[0m \u001B[32m━━━━━━━━━━━━━━━━━━━━\u001B[0m\u001B[37m\u001B[0m \u001B[1m0s\u001B[0m 3ms/step \n"
     ]
    }
   ],
   "execution_count": 13
  },
  {
   "cell_type": "code",
   "source": [
    "Y_test = encoder.transform(Y_test).reshape(-1, 1)\n",
    "Y_test.shape"
   ],
   "metadata": {
    "colab": {
     "base_uri": "https://localhost:8080/"
    },
    "id": "zwulBhoaeMZc",
    "outputId": "25d1f8be-7bfe-4791-bbf3-d18829af4573",
    "ExecuteTime": {
     "end_time": "2025-04-16T08:43:01.965026Z",
     "start_time": "2025-04-16T08:43:01.960005Z"
    }
   },
   "outputs": [
    {
     "data": {
      "text/plain": [
       "(305, 1)"
      ]
     },
     "execution_count": 14,
     "metadata": {},
     "output_type": "execute_result"
    }
   ],
   "execution_count": 14
  },
  {
   "cell_type": "code",
   "source": [
    "Y_predict_labels = (Y_predict > 0.5).astype(int)"
   ],
   "metadata": {
    "id": "Xr82xvxBeOKd",
    "ExecuteTime": {
     "end_time": "2025-04-16T08:43:01.990564Z",
     "start_time": "2025-04-16T08:43:01.987583Z"
    }
   },
   "outputs": [],
   "execution_count": 15
  },
  {
   "cell_type": "code",
   "source": [
    "(Y_predict_labels == 1).sum(), (Y_predict_labels == 0).sum()"
   ],
   "metadata": {
    "colab": {
     "base_uri": "https://localhost:8080/"
    },
    "id": "ISsXWKY4ePjh",
    "outputId": "bf555bd7-dfc1-4a47-9ff2-7fb7c0c0f04a",
    "ExecuteTime": {
     "end_time": "2025-04-16T08:43:02.017233Z",
     "start_time": "2025-04-16T08:43:02.012784Z"
    }
   },
   "outputs": [
    {
     "data": {
      "text/plain": [
       "(np.int64(186), np.int64(119))"
      ]
     },
     "execution_count": 16,
     "metadata": {},
     "output_type": "execute_result"
    }
   ],
   "execution_count": 16
  },
  {
   "cell_type": "code",
   "source": [
    "(Y_test == 1).sum(), (Y_test == 0).sum()"
   ],
   "metadata": {
    "colab": {
     "base_uri": "https://localhost:8080/"
    },
    "id": "5KzBMZgPeRIB",
    "outputId": "e8c196e1-7e53-49b8-eaba-eead442cfb3d",
    "ExecuteTime": {
     "end_time": "2025-04-16T08:43:02.045722Z",
     "start_time": "2025-04-16T08:43:02.041191Z"
    }
   },
   "outputs": [
    {
     "data": {
      "text/plain": [
       "(np.int64(196), np.int64(109))"
      ]
     },
     "execution_count": 17,
     "metadata": {},
     "output_type": "execute_result"
    }
   ],
   "execution_count": 17
  },
  {
   "cell_type": "code",
   "source": [
    "TP = ((Y_predict_labels == 1) & (Y_test == 1)).sum()\n",
    "TF = ((Y_predict_labels == 0) & (Y_test == 0)).sum()\n",
    "FP = ((Y_predict_labels == 1) & (Y_test != 1)).sum()\n",
    "FN = ((Y_predict_labels == 0) & (Y_test == 1)).sum()\n",
    "accuracy = (Y_predict_labels == Y_test).sum() / Y_test.shape[0]\n",
    "precision = TP / (TP + FP)\n",
    "recall =  TP / (TP + FN)\n",
    "f1_score = 2 * precision * recall / (precision + recall)\n",
    "print(f\"accuracy: {accuracy}, precision: {precision}, recall: {recall}, f1_score: {f1_score}\")"
   ],
   "metadata": {
    "colab": {
     "base_uri": "https://localhost:8080/"
    },
    "id": "Xrvaln8yeTHX",
    "outputId": "f506e716-6415-4c07-a667-3fb42410e953",
    "ExecuteTime": {
     "end_time": "2025-04-16T08:43:08.794090Z",
     "start_time": "2025-04-16T08:43:08.790401Z"
    }
   },
   "outputs": [
    {
     "name": "stdout",
     "output_type": "stream",
     "text": [
      "accuracy: 0.8557377049180328, precision: 0.9086021505376344, recall: 0.8622448979591837, f1_score: 0.8848167539267016\n"
     ]
    }
   ],
   "execution_count": 18
  },
  {
   "cell_type": "markdown",
   "source": [
    "accuracy: 0.8721311475409836,\n",
    "precision: 0.8905472636815921,\n",
    "recall: 0.9132653061224489,\n",
    "f1_score: 0.9017632241813602"
   ],
   "metadata": {
    "id": "IKZhB0wfl0Qv"
   }
  },
  {
   "cell_type": "code",
   "source": [
    "FP, FN"
   ],
   "metadata": {
    "id": "_YVkSI9alRnP",
    "colab": {
     "base_uri": "https://localhost:8080/"
    },
    "outputId": "ec5b3787-aa70-4f06-b683-b6d9ddd0a1c1",
    "ExecuteTime": {
     "end_time": "2025-04-16T08:43:10.959619Z",
     "start_time": "2025-04-16T08:43:10.954510Z"
    }
   },
   "outputs": [
    {
     "data": {
      "text/plain": [
       "(np.int64(17), np.int64(27))"
      ]
     },
     "execution_count": 19,
     "metadata": {},
     "output_type": "execute_result"
    }
   ],
   "execution_count": 19
  },
  {
   "cell_type": "code",
   "source": [
    "history.history.keys()"
   ],
   "metadata": {
    "id": "x2XpUETYhwgJ",
    "colab": {
     "base_uri": "https://localhost:8080/"
    },
    "outputId": "b1d2ded2-ca46-429e-908c-390cf2228b03",
    "ExecuteTime": {
     "end_time": "2025-04-16T08:43:11.405424Z",
     "start_time": "2025-04-16T08:43:11.401779Z"
    }
   },
   "outputs": [
    {
     "data": {
      "text/plain": [
       "dict_keys(['accuracy', 'loss', 'precision', 'recall'])"
      ]
     },
     "execution_count": 20,
     "metadata": {},
     "output_type": "execute_result"
    }
   ],
   "execution_count": 20
  },
  {
   "cell_type": "code",
   "source": [
    "from matplotlib import pyplot as plt"
   ],
   "metadata": {
    "id": "giHE4oKEoEdz",
    "ExecuteTime": {
     "end_time": "2025-04-16T08:43:11.837504Z",
     "start_time": "2025-04-16T08:43:11.834698Z"
    }
   },
   "outputs": [],
   "execution_count": 21
  },
  {
   "cell_type": "code",
   "source": [
    "fig = plt.figure(figsize=(10, 10))\n",
    "plt.plot([x for x in range(len(history.history['loss']))], history.history['loss'])"
   ],
   "metadata": {
    "colab": {
     "base_uri": "https://localhost:8080/",
     "height": 847
    },
    "id": "yRdDJAlVTUJ9",
    "outputId": "3171455b-7b6a-4b6d-c4a2-3fb2f41c58ca",
    "ExecuteTime": {
     "end_time": "2025-04-16T08:43:14.175066Z",
     "start_time": "2025-04-16T08:43:12.213172Z"
    }
   },
   "outputs": [
    {
     "data": {
      "text/plain": [
       "[<matplotlib.lines.Line2D at 0x160417710>]"
      ]
     },
     "execution_count": 22,
     "metadata": {},
     "output_type": "execute_result"
    },
    {
     "data": {
      "text/plain": [
       "<Figure size 1000x1000 with 1 Axes>"
      ],
      "image/png": "[encoded data removed]"
     },
     "metadata": {},
     "output_type": "display_data"
    }
   ],
   "execution_count": 22
  },
  {
   "cell_type": "code",
   "source": [
    "plt.plot([x for x in range(len(history.history['accuracy']))], history.history['accuracy'])"
   ],
   "metadata": {
    "colab": {
     "base_uri": "https://localhost:8080/",
     "height": 448
    },
    "id": "_11cJeVqT5Ui",
    "outputId": "6d3abbaa-3ca9-4f8b-9045-3d52003865f9",
    "ExecuteTime": {
     "end_time": "2025-04-16T08:43:14.245416Z",
     "start_time": "2025-04-16T08:43:14.187632Z"
    }
   },
   "outputs": [
    {
     "data": {
      "text/plain": [
       "[<matplotlib.lines.Line2D at 0x1604c5c40>]"
      ]
     },
     "execution_count": 23,
     "metadata": {},
     "output_type": "execute_result"
    },
    {
     "data": {
      "text/plain": [
       "<Figure size 640x480 with 1 Axes>"
      ],
      "image/png": "[encoded data removed]"
     },
     "metadata": {},
     "output_type": "display_data"
    }
   ],
   "execution_count": 23
  },
  {
   "cell_type": "code",
   "source": [
    "plt.plot([x for x in range(len(history.history['precision']))], history.history['precision'])"
   ],
   "metadata": {
    "colab": {
     "base_uri": "https://localhost:8080/",
     "height": 447
    },
    "id": "oT0uExZyUDsW",
    "outputId": "621e4401-134d-4c10-a112-f4ccaa464f80",
    "ExecuteTime": {
     "end_time": "2025-04-16T08:43:14.385878Z",
     "start_time": "2025-04-16T08:43:14.316927Z"
    }
   },
   "outputs": [
    {
     "data": {
      "text/plain": [
       "[<matplotlib.lines.Line2D at 0x1610bab10>]"
      ]
     },
     "execution_count": 24,
     "metadata": {},
     "output_type": "execute_result"
    },
    {
     "data": {
      "text/plain": [
       "<Figure size 640x480 with 1 Axes>"
      ],
      "image/png": "[encoded data removed]"
     },
     "metadata": {},
     "output_type": "display_data"
    }
   ],
   "execution_count": 24
  },
  {
   "metadata": {
    "ExecuteTime": {
     "end_time": "2025-04-16T08:43:14.426909Z",
     "start_time": "2025-04-16T08:43:14.423994Z"
    }
   },
   "cell_type": "code",
   "source": "import numpy as np",
   "outputs": [],
   "execution_count": 25
  },
  {
   "metadata": {
    "ExecuteTime": {
     "end_time": "2025-04-16T08:43:15.110419Z",
     "start_time": "2025-04-16T08:43:15.105201Z"
    }
   },
   "cell_type": "code",
   "source": [
    "probs = np.arange(0, 1, 0.1)\n",
    "counts_positive = np.zeros(probs.size)\n",
    "counts_negative = np.zeros(probs.size)\n",
    "ind = 0\n",
    "for prob in probs:\n",
    "    counts_positive[ind] = Y_predict[(Y_predict > prob) & (Y_predict < prob + 0.1) & (Y_test == 1)].size\n",
    "    counts_negative[ind] = Y_predict[(Y_predict > prob) & (Y_predict < prob + 0.1) & (Y_test == 0)].size\n",
    "    ind += 1"
   ],
   "outputs": [],
   "execution_count": 26
  },
  {
   "metadata": {
    "ExecuteTime": {
     "end_time": "2025-04-16T08:43:19.041319Z",
     "start_time": "2025-04-16T08:43:18.975896Z"
    }
   },
   "cell_type": "code",
   "source": "plt.bar(x=probs, height=counts_positive, width=0.1, color='r')",
   "outputs": [
    {
     "data": {
      "text/plain": [
       "<BarContainer object of 10 artists>"
      ]
     },
     "execution_count": 27,
     "metadata": {},
     "output_type": "execute_result"
    },
    {
     "data": {
      "text/plain": [
       "<Figure size 640x480 with 1 Axes>"
      ],
      "image/png": "[encoded data removed]"
     },
     "metadata": {},
     "output_type": "display_data"
    }
   ],
   "execution_count": 27
  },
  {
   "metadata": {
    "ExecuteTime": {
     "end_time": "2025-04-16T08:43:19.504592Z",
     "start_time": "2025-04-16T08:43:19.439814Z"
    }
   },
   "cell_type": "code",
   "source": "plt.bar(x=probs, height=counts_negative, width=0.1, color='b')",
   "outputs": [
    {
     "data": {
      "text/plain": [
       "<BarContainer object of 10 artists>"
      ]
     },
     "execution_count": 28,
     "metadata": {},
     "output_type": "execute_result"
    },
    {
     "data": {
      "text/plain": [
       "<Figure size 640x480 with 1 Axes>"
      ],
      "image/png": "[encoded data removed]"
     },
     "metadata": {},
     "output_type": "display_data"
    }
   ],
   "execution_count": 28
  },
  {
   "metadata": {
    "ExecuteTime": {
     "end_time": "2025-04-16T08:43:23.126944Z",
     "start_time": "2025-04-16T08:43:23.121168Z"
    }
   },
   "cell_type": "code",
   "source": [
    "threshold_start = 0\n",
    "threshold_stop = 1\n",
    "precisions = list()\n",
    "recalls = list()\n",
    "for step in range(threshold_start, threshold_stop * 10, 1):\n",
    "  threshold = step / 10\n",
    "  Y_predict_labels = (Y_predict > threshold).astype(int)\n",
    "  TP = ((Y_predict_labels == 1) & (Y_test == 1)).sum()\n",
    "  TF = ((Y_predict_labels == 0) & (Y_test == 0)).sum()\n",
    "  FP = ((Y_predict_labels == 1) & (Y_test != 1)).sum()\n",
    "  FN = ((Y_predict_labels == 0) & (Y_test == 1)).sum()\n",
    "  accuracy = (Y_predict_labels == Y_test).sum() / Y_test.shape[0]\n",
    "  precision = TP / (TP + FP) if TP != 0 else 0\n",
    "  recall =  TP / (TP + FN) if TP != 0 else 0\n",
    "  precisions.append(precision)\n",
    "  recalls.append(recall)"
   ],
   "outputs": [],
   "execution_count": 29
  },
  {
   "metadata": {
    "ExecuteTime": {
     "end_time": "2025-04-16T08:43:23.814267Z",
     "start_time": "2025-04-16T08:43:23.746557Z"
    }
   },
   "cell_type": "code",
   "source": "plt.scatter(precisions, recalls)",
   "outputs": [
    {
     "data": {
      "text/plain": [
       "<matplotlib.collections.PathCollection at 0x16049bce0>"
      ]
     },
     "execution_count": 30,
     "metadata": {},
     "output_type": "execute_result"
    },
    {
     "data": {
      "text/plain": [
       "<Figure size 640x480 with 1 Axes>"
      ],
      "image/png": "[encoded data removed]"
     },
     "metadata": {},
     "output_type": "display_data"
    }
   ],
   "execution_count": 30
  },
  {
   "metadata": {},
   "cell_type": "code",
   "outputs": [],
   "execution_count": null,
   "source": ""
  }
 ]
}
